{
 "cells": [
  {
   "cell_type": "markdown",
   "metadata": {},
   "source": [
    "# Exercises due by EOD 2019.10.09"
   ]
  },
  {
   "cell_type": "markdown",
   "metadata": {},
   "source": [
    "## goal"
   ]
  },
  {
   "cell_type": "markdown",
   "metadata": {},
   "source": [
    "in this homework assignment we will continue exploring `ssh` and `linux` skills, and start to `git` more familiar with `git`"
   ]
  },
  {
   "cell_type": "markdown",
   "metadata": {},
   "source": [
    "## method of delivery"
   ]
  },
  {
   "cell_type": "markdown",
   "metadata": {},
   "source": [
    "*as mentioned in our first lecture, the method of delivery may change from assignment to assignment. we will include this section in every assignment to provide an overview of how we expect homework results to be submitted, and to provide background notes or explanations for \"new\" delivery concepts or methods.*"
   ]
  },
  {
   "cell_type": "markdown",
   "metadata": {},
   "source": [
    "this week you will be submitting most of the results of your homework via **EMAIL**.\n",
    "\n",
    "+ subject: **\"hw05 answers\"**\n",
    "+ to: rzl5@georgetown.edu, kpm89@georgetown.edu, dcf63@georgetown.edu\n",
    "\n",
    "other results will be submitted by `push`ing to your `gu511_git_hw` repository.\n",
    "\n",
    "summary:\n",
    "\n",
    "| exercise | deliverable | method of delivery | points |\n",
    "|----------|-------------|--------------------|--------|\n",
    "| 1 | public ip address of `ec2` instance we can `ssh` into | include in body of submission email | 10 |\n",
    "| 2 | a `bash` command and a file path | include in body of submission email | 3 |\n",
    "| 3 | a `grep` command that can find a specific string in a file | include in body of submission email | 4 |\n",
    "| 4 | the output of `git remote -v` | include in body of submission email | 2 |\n",
    "| 5 | the url of a `gist` | include in body of submission email | 2 |\n",
    "| 6 | none | none | 3 |\n",
    "| 7 | a commit containing `helloworld.py` | `push` to your `github` repo | 5 |\n",
    "| 8 | a commit containing changes to `README.md` | `push` to your `github` repo | 5 |\n",
    "| 9 | none | none | 1 |\n",
    "\n",
    "\n",
    "\n",
    "total points: 35"
   ]
  },
  {
   "cell_type": "markdown",
   "metadata": {},
   "source": [
    "<div style=\"border: 1px solid lightgrey;\">"
   ]
  },
  {
   "cell_type": "markdown",
   "metadata": {},
   "source": [
    "# exercise 1: set up *MY* login to *your* `ec2` instance\n",
    "\n",
    "we now have three computers in place -- your laptop, your `ec2` instance, and my `ec2` instance. we've set up connections\n",
    "\n",
    "+ your laptop `-->` your `ec2`\n",
    "+ your laptop `-->` my `ec2`\n",
    "\n",
    "I gave you the ability to log in to my `aws` instance, and now it's time to repay the favor. we will set up one final connection\n",
    "\n",
    "+ my `ec2` `-->` your `ec2`\n",
    "\n",
    "being knowledgable in the ways of `ssh`, you know the information you require, and you ask me:\n",
    "\n",
    "1. what is the IP address from which you will be connecting?\n",
    "1. what is your private key?\n",
    "\n",
    "and I respond:\n",
    "\n",
    "1. `54.144.203.209`\n",
    "1. [how's this for a public key](https://gist.github.com/RZachLamberty/3d46aac9ad705b672f95d8cd6f4f0af1)\n",
    "\n",
    "so what now?"
   ]
  },
  {
   "cell_type": "markdown",
   "metadata": {},
   "source": [
    "## 1.1: configure the `aws` security group to allow traffic from my ip address\n",
    "\n",
    "first, you have to make sure I am *allowed* to send `ssh` messages. you do that in the `aws` `ec2` console (remember that?!).\n",
    "\n",
    "[log in to `aws`](https://console.aws.amazon.com/) and select the `ec2` service and then the \"instances\" sub-menu. select your `ec2` instance so that the description panel fills in on the bottom. then, click the link to visit your `ec2` instance's security group\n",
    "\n",
    "<br><div align=\"center\"><img src=\"http://drive.google.com/uc?export=view&id=1jNTmBuwqRNaVNBQQYaotT-0b90GQSZS5\"></div>\n",
    "\n",
    "once there, click on the \"inbound\" tab in the lower panel, and verify that one of the two following statements is true:\n",
    "\n",
    "1. you have a rule allowing `tcp` traffic on port 22 (e.g. `ssh`) from *all* ip addresses (`cidr = 0.0.0.0/0`), or\n",
    "1. you have a rule allowing `tcp` traffic on port 22 (e.g. `ssh`) from *my* ip address (`cidr = 54.144.203.209/32`)"
   ]
  },
  {
   "cell_type": "markdown",
   "metadata": {},
   "source": [
    "## 1.2: set up my user on your `ec2` instance\n",
    "\n",
    "the next step is for you to create a new user on your `ec2` instance. this is an administrator level task, so we must become a super user -- using `sudo`.\n",
    "\n",
    "the command we will execute is the `useradd` command which -- surprise, surprise -- adds users.\n",
    "\n",
    "the `-m` flag creates a home directory for me.\n",
    "\n",
    "run the following command to create a new user named `rzl5` on your machine:\n",
    "\n",
    "```sh\n",
    "sudo useradd -m rzl5\n",
    "```"
   ]
  },
  {
   "cell_type": "markdown",
   "metadata": {},
   "source": [
    "## 1.3: add the public key for my user\n",
    "\n",
    "for me to log in as new user `rzl5`, that user must have my public key in a `.ssh` folder in that user's home directory. you can make that happen!\n",
    "\n",
    "to start, give my user a `/home/rzl5/.ssh` folder:\n",
    "\n",
    "```sh\n",
    "# create a .ssh folder for my user, and change the owner\n",
    "sudo mkdir -p /home/rzl5/.ssh\n",
    "sudo chown rzl5:rzl5 /home/rzl5/.ssh\n",
    "```\n",
    "\n",
    "now, we need to add the public key to a file called `authorized_keys` in that `~/.ssh` directory execute the commands below, but replace the `REPLACE_THIS_PUB_KEY_STRING` with the value on the [`github` gist](https://gist.github.com/RZachLamberty/3d46aac9ad705b672f95d8cd6f4f0af1). \n",
    "\n",
    "**leave the quotations around the very long public key!**:\n",
    "\n",
    "```sh\n",
    "# add public key to authorized_keys and then fix permissions\n",
    "sudo sh -c 'echo \"REPLACE_THIS_PUB_KEY_STRING\" >> /home/rzl5/.ssh/authorized_keys'\n",
    "\n",
    "# change the owner of my .ssh directory to be me,\n",
    "# then set the permission MODe to be restricted to\n",
    "# me alone\n",
    "sudo chown -R rzl5:rzl5 /home/rzl5/.ssh/\n",
    "sudo chmod 700 /home/rzl5/.ssh\n",
    "sudo chmod 600 /home/rzl5/.ssh/authorized_keys\n",
    "```\n",
    "\n",
    "you can verify you've done this all correctly if you run the following command and see a similar output (especially the permission mode strings):\n",
    "\n",
    "```sh\n",
    "ubuntu@ip-XXX-XXX-XXX-XXX:~$ sudo ls -alh /home/rzl5/.ssh\n",
    "```\n",
    "\n",
    "```\n",
    "total 12K\n",
    "drwx------ 2 rzl5 rzl5 4.0K Sep 16 18:46 .\n",
    "drwxr-xr-x 4 rzl5 rzl5 4.0K Sep 21 00:05 ..\n",
    "-rw------- 1 rzl5 rzl5  740 Sep 16 18:46 authorized_keys\n",
    "```"
   ]
  },
  {
   "cell_type": "markdown",
   "metadata": {},
   "source": [
    "## 1.4: send me your `ec2` instance's public ip address or DNS\n",
    "\n",
    "finally, send me the *public ip address* or *public DNS* of your instance, and make sure it stays on long enough for me to make an ssh connection.\n",
    "\n",
    "\n",
    "##### email us your public ip address"
   ]
  },
  {
   "cell_type": "markdown",
   "metadata": {},
   "source": [
    "<div style=\"border: 1px solid lightgrey;\">"
   ]
  },
  {
   "cell_type": "markdown",
   "metadata": {},
   "source": [
    "# exercise 2: finding files\n",
    "\n",
    "there is one file on your `ec2` instance named `python.nanorc`. where is it? what is the absolute path to that file?\n",
    "\n",
    "leverage the `locate` or `find` commands to find this file\n",
    "\n",
    "*note*: when running `find` you must provide a directory to search in. if you want to search the entire file system, that directory is the root directory, `/`. when you try to search across the entire file system, you will run into many \"permission denied\" errors, e.g.\n",
    "\n",
    "```\n",
    "find: ‘/run/lxcfs’: Permission denied\n",
    "```\n",
    "\n",
    "these errors are the result of a great number of the files on the filesystem belonging to `root` -- `python.nanorc` is not one of those. you may ignore these errors. it is possible to filter out these errors by following [the steps in this stackoverflow answer](https://unix.stackexchange.com/a/42842/245990), e.g.\n",
    "\n",
    "```sh\n",
    "[whatever your find command is] 2>&1 | grep -v \"Permission denied\"\n",
    "```\n",
    "\n",
    "##### include *both* the command you ran and the absolute path to the file in your submission email"
   ]
  },
  {
   "cell_type": "markdown",
   "metadata": {},
   "source": [
    "<div style=\"border: 1px solid lightgrey;\">"
   ]
  },
  {
   "cell_type": "markdown",
   "metadata": {},
   "source": [
    "# exercise 3: `grep` in the wild\n",
    "\n",
    "your `/var/log/auth.log` file on your `ec2` instance tracks the attempts to authenticate with your virtual computer. I verified that you were able to successfully log into my `ec2` instance by looking for lines like\n",
    "\n",
    "```\n",
    "Oct  2 23:55:04 ip-172-31-16-44 sshd[13806]: Accepted publickey for <YOUR GU ID> from <AN IP ADDRESS> port 44079 ssh2: RSA SHA256:<LONG SHA>\n",
    "```\n",
    "\n",
    "that file also contains **unsuccessful** attempts to log in to my machine -- lines of the form\n",
    "\n",
    "```\n",
    "Oct  1 17:38:18 ip-172-31-16-44 sshd[13621]: Connection closed by invalid user administrator 46.148.20.25 port 60980 [preauth]\n",
    "```\n",
    "\n",
    "how fun! my good friend Admin (full name Administrator User) is trying to log in.\n",
    "\n",
    "log in to your `ec2` instance and use the `grep` command to find all references to the word \"`invalid`\" in the `/var/log/auth.log` file. the correct command should output something like\n",
    "\n",
    "```\n",
    "Oct  1 13:42:47 ip-172-31-16-44 sshd[12232]: Connection closed by invalid user test 46.148.20.25 port 48420 [preauth]\n",
    "Oct  1 13:50:39 ip-172-31-16-44 sshd[12241]: Connection closed by invalid user admin 46.148.20.25 port 47362 [preauth]\n",
    "Oct  1 14:07:13 ip-172-31-16-44 sshd[12357]: Connection closed by invalid user oracle 46.148.20.25 port 44288 [preauth]\n",
    "Oct  1 14:23:13 ip-172-31-16-44 sshd[12384]: Connection closed by invalid user administrator 46.148.20.25 port 38870 [preauth]\n",
    "Oct  1 14:31:16 ip-172-31-16-44 sshd[12393]: Connection closed by invalid user administrator 46.148.20.25 port 35712 [preauth]\n",
    "Oct  1 14:39:18 ip-172-31-16-44 sshd[12401]: Connection closed by invalid user user1 46.148.20.25 port 32964 [preauth]\n",
    "Oct  1 14:47:15 ip-172-31-16-44 sshd[12410]: Connection closed by invalid user mike 46.148.20.25 port 58360 [preauth]\n",
    "Oct  1 14:55:15 ip-172-31-16-44 sshd[12419]: Connection closed by invalid user admin 46.148.20.25 port 56346 [preauth]\n",
    "Oct  1 15:52:16 ip-172-31-16-44 sshd[13061]: Connection closed by invalid user adm 46.148.20.25 port 37612 [preauth]\n",
    "Oct  1 16:08:46 ip-172-31-16-44 sshd[13079]: Connection closed by invalid user openelec 46.148.20.25 port 56962 [preauth]\n",
    "Oct  1 16:25:00 ip-172-31-16-44 sshd[13103]: Connection closed by invalid user User 46.148.20.25 port 47414 [preauth]\n",
    "Oct  1 17:38:18 ip-172-31-16-44 sshd[13621]: Connection closed by invalid user administrator 46.148.20.25 port 60980 [preauth]\n",
    "Oct  1 17:46:41 ip-172-31-16-44 sshd[13630]: Connection closed by invalid user admin 46.148.20.25 port 54310 [preauth]\n",
    "\n",
    "# and many, many, many more\n",
    "```\n",
    "\n",
    "##### send us the command you executed in your submission email"
   ]
  },
  {
   "cell_type": "markdown",
   "metadata": {},
   "source": [
    "<div style=\"border: 1px solid lightgrey;\">"
   ]
  },
  {
   "cell_type": "markdown",
   "metadata": {},
   "source": [
    "# exercise 4: use `ssh` authentication for your `github` remote connections"
   ]
  },
  {
   "cell_type": "markdown",
   "metadata": {},
   "source": [
    "## 4.1: background\n",
    "\n",
    "in a previous homework exercise you connected your *local* `gu511_git_hw` `git` repository with a *remote* `github`-based repository using the two commands `git` suggested (`git remote` and `git push`). as we discussed in lecture, there are two ways of specifying this `github` repository as a remote, depending on protocol: using `https` or `ssh`. depending on which box you had selected before you copied those records\n",
    "\n",
    "<br><div align=\"center\"><img src=\"http://drive.google.com/uc?export=view&id=1la8iZx9gOk4rM7PVvLBLvIDdoUBNyFNW\" width=\"850\"></div>\n",
    "\n",
    "your remote would be either\n",
    "\n",
    "+ `https`: `https://github.com/YOUR_GITHUB_USER_NAME/tacoworld.git`\n",
    "+ `ssh`: `git@github.com:YOUR_GITHUB_USER_NAME/gu511_git_hw.git`\n",
    "\n",
    "in lecture we\n",
    "\n",
    "1. *intentionally selected* `ssh` up front, and\n",
    "2. went through the process outlined [in the `github` documentation here](https://help.github.com/articles/adding-a-new-ssh-key-to-your-github-account/) for our `ec2` instances"
   ]
  },
  {
   "cell_type": "markdown",
   "metadata": {},
   "source": [
    "## 4.2: adding a public key\n",
    "\n",
    "for **EACH** computer you intend to use to make changes to your `gu511_git_hw` repository (this could be just your `ec2`, just your personal laptop, or *both*), follow [these instructions](https://help.github.com/articles/adding-a-new-ssh-key-to-your-github-account/) and make sure you have a unique public/private key set up on each computer. we already did this, in class, for one of those two computers, so if you followed along you do not need to do that again."
   ]
  },
  {
   "cell_type": "markdown",
   "metadata": {},
   "source": [
    "## 4.3: make sure you are using the `ssh` remote\n",
    "\n",
    "check the output of\n",
    "\n",
    "```sh\n",
    "git remote -v\n",
    "```\n",
    "\n",
    "if you see two lines which both have `git@github.com:YOUR_GITHUB_USER_NAME/gu511_git_hw.git` as the remote string, you're done.\n",
    "\n",
    "if you see `https://github.com/YOUR_GITHUB_USER_NAME/tacoworld.git` instead, let's update our remote connection string. do this using:\n",
    "\n",
    "```sh\n",
    "git remote set-url origin git@github.com:YOUR_GITHUB_USER_NAME>/gu511_git_hw.git\n",
    "```"
   ]
  },
  {
   "cell_type": "markdown",
   "metadata": {},
   "source": [
    "## 4.4: send us the result\n",
    "\n",
    "in your submission email include the output of the command\n",
    "\n",
    "```sh\n",
    "git remote -v\n",
    "```"
   ]
  },
  {
   "cell_type": "markdown",
   "metadata": {},
   "source": [
    "<div style=\"border: 1px solid lightgrey;\">"
   ]
  },
  {
   "cell_type": "markdown",
   "metadata": {},
   "source": [
    "# exercise 5: add your laptop's public key as a `github` `gist`\n",
    "\n",
    "the folks at `github` have created a useful service for storing blocks of code called [`gist`](https://gist.github.com/). `gist` is meant as a way of simply sharing code independent of the `git` version control tool, and [I use it](https://gist.github.com/RZachLamberty) to save little snippets of information that aren't *exactly* code I want to version control but *are* useful enough I want to remember them and access them easily every now and then. for example, I've used [this line](https://gist.github.com/RZachLamberty/e5f03771c933a12dd72ab6eaa5a6f41f) for finding the directory a shell script is in more times than I can count.\n",
    "\n",
    "you may have also noticed, this is how I share public keys (I did this on a previous homework). let's have you do the same\n",
    "\n",
    "copy your `openssh` formatted public key (should look similar to [this](https://gist.github.com/RZachLamberty/3d46aac9ad705b672f95d8cd6f4f0af1)) and add it as a `github` `gist`. in the name or the description, leave yourself a reminder what computer this is on (e.g. a name `zach_mac_laptop`).\n",
    "\n",
    "if you are using the `ssh` command, I encourage you to use the value in `id_rsa.pub`. if that key doesn't exist, create it with `ssh-keygen` (like we did in the `git` lecture).\n",
    "\n",
    "##### include the url to your `gist` in your email to us"
   ]
  },
  {
   "cell_type": "markdown",
   "metadata": {},
   "source": [
    "<div style=\"border: 1px solid lightgrey;\">"
   ]
  },
  {
   "cell_type": "markdown",
   "metadata": {},
   "source": [
    "# exercise 6: add several `git` aliases\n",
    "\n",
    "like many `linux` tools, `git` allows you to configure *aliases* (shortcut phrases for invoking long strings of commands). there are a number of these aliases that I find routinely useful, and we are going to add them to your `git` config files.\n",
    "\n",
    "I'd recommend doing the following on all the computers on which you intend to use `git` (`ec2`, personal laptop, etc). for now, do it at least on the computer where you created your `gu511_git_hw` repository."
   ]
  },
  {
   "cell_type": "markdown",
   "metadata": {},
   "source": [
    "## 6.1: locating your `git` config file\n",
    "\n",
    "remember our frequent mantra about `linux`-world command configuration: you can configure a command\n",
    "\n",
    "1. *one-off*: on the command line, when you invoke that command\n",
    "1. *local*: with files saved in the working directoy in which you invoke that command\n",
    "1. *global*: with files save in your home directory\n",
    "1. *system*: with files saved in `/etc`\n",
    "\n",
    "we are going to update that 3rd item -- the global `git` config, a file that is saved in your home directory (it is \"global\" in that you can use it anywhere you are, it applies globally for you)\n",
    "\n",
    "in `mac`, `linux`, and `windows` with `git bash`, `git` will look for a file at the path\n",
    "\n",
    "```sh\n",
    "~/.gitconfig\n",
    "```\n",
    "\n",
    "for `mac` and `linux`, this is all you need to know. for `windows`, `~` is *usually* `C:\\Users\\YOUR_USER_NAME`. that being said, you should verfiy by running\n",
    "\n",
    "```sh\n",
    "cd ~ && pwd\n",
    "```\n",
    "\n",
    "to see what `git bash` sees as your `~` directory on your windows machine."
   ]
  },
  {
   "cell_type": "markdown",
   "metadata": {},
   "source": [
    "## 6.2: adding a few aliases from the command line\n",
    "\n",
    "the `git config` command allows you to set configuration values via the command line -- see [the documentation here](https://git-scm.com/book/en/v2/Git-Basics-Git-Aliases). let's set the first few aliases -- two-letter shorthands for the commands we learned yesterday -- using this command. run the following from your terminal:\n",
    "\n",
    "```sh\n",
    "git config --global alias.co checkout\n",
    "git config --global alias.br branch\n",
    "git config --global alias.ci commit\n",
    "```"
   ]
  },
  {
   "cell_type": "markdown",
   "metadata": {},
   "source": [
    "## 6.3: editing that file\n",
    "\n",
    "open `~/.gitconfig` in the text editor of your preference and verify that those aliases were added somewhere within it:\n",
    "\n",
    "```config\n",
    "[alias]\n",
    "    ci = commit\n",
    "    br = branch\n",
    "    co = checkout\n",
    "```\n",
    "\n",
    "the format of this file is a common format (often called [`INI` formatting](https://en.wikipedia.org/wiki/INI_file)) in which configuration variables are grouped by concept (e.g. `alias` variables) into *sections*. the name of the section is written inside braces (`[section name]`). the configuration variables are set via `key = value` statements, often indented.\n",
    "\n",
    "update the block under the `[alias]` heading to look like:\n",
    "\n",
    "```config\n",
    "[alias]\n",
    "    ci = commit\n",
    "    br = branch\n",
    "    co = checkout\n",
    "    st = status -sb\n",
    "    gr = log --graph --abbrev-commit --decorate --date=relative --format=format:'%C(bold blue)%h%C(reset) - %C(bold green)(%ar)%C(reset) %C(bold white)%s%C(reset) - %C(red)%an%C(reset)%C(bold yellow)%d%C(reset)' --all\n",
    "    unstage = reset HEAD --\n",
    "```\n",
    "\n",
    "try `git st` and `git gr` to see what they do!\n",
    "\n",
    "a lot of folks share their `.gitconfig` files online so look around for configurations you like. [here's mine](https://github.com/RZachLamberty/linux_configs/blob/master/files/.gitconfig)"
   ]
  },
  {
   "cell_type": "markdown",
   "metadata": {},
   "source": [
    "<div style=\"border: 1px solid lightgrey;\">"
   ]
  },
  {
   "cell_type": "markdown",
   "metadata": {},
   "source": [
    "# exercise 7: add a new `python` file to your local `gu511_git_hw` repo and `push` to your remote\n",
    "\n",
    "write the following code to a file named `helloworld.py` in your local `gu511_git_hw` directory (that is, save it next to `README.md`):\n",
    "\n",
    "```py\n",
    "import datetime\n",
    "\n",
    "def hello_world():\n",
    "    print('hello world!')\n",
    "    now = datetime.datetime.now()\n",
    "    print('it is {}'.format(now))\n",
    "\n",
    "if __name__ == \"__main__\":\n",
    "    hello_world()\n",
    "```\n",
    "\n",
    "after editing,\n",
    "\n",
    "1. `add` this new file to your repository\n",
    "1. `commit` this new file with a message `helloworld: initial commit`\n",
    "1. `push` your chagnes to `github`"
   ]
  },
  {
   "cell_type": "markdown",
   "metadata": {},
   "source": [
    "<div style=\"border: 1px solid lightgrey;\">"
   ]
  },
  {
   "cell_type": "markdown",
   "metadata": {},
   "source": [
    "# exercise 8: edit the `README.md` and `push`\n",
    "\n",
    "edit the existing `README.md` to read:\n",
    "\n",
    "```\n",
    "# 511 github repo\n",
    "\n",
    "the primary function of this repo is to develop `git` skills over the course of the year.\n",
    "\n",
    "## repository contents\n",
    "\n",
    "+ `helloworld.py`\n",
    "    + run with `python helloworld.py`\n",
    "    + this will greet you and then tell you the current time\n",
    "```\n",
    "\n",
    "when you commit, use the message `README: adding a contents section`. then `push` these results to `github`"
   ]
  },
  {
   "cell_type": "markdown",
   "metadata": {},
   "source": [
    "<div style=\"border: 1px solid lightgrey;\">"
   ]
  },
  {
   "cell_type": "markdown",
   "metadata": {},
   "source": [
    "# exercise 9: consider joining a local data science meetup\n",
    "\n",
    "there are a lot of good local meetup options for people interested in data science, and I strongly recommend you look into the different groups in the area to identify topics you are interested in. in addition to being a long-term way of keeping up to date on what other folks in the community are doing, it's an open community for you to find smart people who are doing the sorts of things you are or would like to do in the future.\n",
    "\n",
    "in particular, I recommend the following:\n",
    "\n",
    "+ [Data Community DC](http://www.datacommunitydc.org/meetups-overview/). this is an umbrella organization covering a ton of the local data science organization and meetup scene. there are currently 10 sub-meetup groups focused on different topics, and I've found that the quality of the individual presentations varies but is generally more worth attending than not\n",
    "+ [DataKind DC](http://www.meetup.com/DataKind-DC/): this is a really interesting group which works with nonprofits in the area to identify data science problems that could be of use to those organizations. There is a team of professional volunteers who work with the nonprofits before it ever gets to you, the data scientisit volunteers. this means that the projects that you are walking into are usually *at least* scoped and vetted, leaving you with something tangible to look into. you and a dozen or so other data scientists will then help that nonprofit put together a data science solution a real problem they have.\n",
    "    + this is a *great* way to get experience working on a team on a scoped and defined data science problem. in my experience, whether you see success, failure, or something inbetween, this is **invaluable experience for future interviews** for real data science positions\n",
    "    + there are multiple projects to pick from each meeting so you can see if any of the projects speak to you technically or personally.\n",
    "    + an example project: they worked with the american red cross to develop a model to predict risk due to lack of smoke alarms in homes\n",
    "+ [Code for DC](https://codefordc.org/): this is much like DataKind above, but less specifically focused on data science and more focused on projects affecing DC. if you are interested in coding generally, or seeing if you can find a good applciation of your data science skills in these settings, I highly recommend this friendly group. they will take on folks of *all* experience levels, especially including `none`. they're happy to teach, in my experience.\n",
    "\n",
    "\n",
    "##### there is nothing to deliver here"
   ]
  },
  {
   "cell_type": "markdown",
   "metadata": {},
   "source": [
    "<div style=\"border: 1px solid lightgrey;\">"
   ]
  }
 ],
 "metadata": {
  "kernelspec": {
   "display_name": "Python 3",
   "language": "python",
   "name": "python3"
  },
  "language_info": {
   "codemirror_mode": {
    "name": "ipython",
    "version": 3
   },
   "file_extension": ".py",
   "mimetype": "text/x-python",
   "name": "python",
   "nbconvert_exporter": "python",
   "pygments_lexer": "ipython3",
   "version": "3.7.3"
  },
  "toc": {
   "base_numbering": 1,
   "nav_menu": {},
   "number_sections": true,
   "sideBar": true,
   "skip_h1_title": false,
   "title_cell": "Table of Contents",
   "title_sidebar": "Contents",
   "toc_cell": false,
   "toc_position": {},
   "toc_section_display": true,
   "toc_window_display": false
  }
 },
 "nbformat": 4,
 "nbformat_minor": 2
}
