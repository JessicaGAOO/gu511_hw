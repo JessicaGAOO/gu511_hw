{
 "cells": [
  {
   "cell_type": "markdown",
   "metadata": {},
   "source": [
    "# Exercises due by EOD 2019.09.20"
   ]
  },
  {
   "cell_type": "markdown",
   "metadata": {},
   "source": [
    "## goal"
   ]
  },
  {
   "cell_type": "markdown",
   "metadata": {},
   "source": [
    "in this homework assignment we will focus on `ssh` connections between client computers (your laptops) and remote computers (your `ec2` instance)"
   ]
  },
  {
   "cell_type": "markdown",
   "metadata": {},
   "source": [
    "## method of delivery"
   ]
  },
  {
   "cell_type": "markdown",
   "metadata": {},
   "source": [
    "*as mentioned in our first lecture, the method of delivery may change from assignment to assignment. we will include this section in every assignment to provide an overview of how we expect homework results to be submitted, and to provide background notes or explanations for \"new\" delivery concepts or methods.*"
   ]
  },
  {
   "cell_type": "markdown",
   "metadata": {},
   "source": [
    "this week you will be submitting the results of your homework via **EMAIL**.\n",
    "\n",
    "+ subject: **\"hw02 answers\"**\n",
    "+ to: rzl5@georgetown.edu, kpm89@georgetown.edu, dcf63@georgetown.edu\n",
    "\n",
    "summary:\n",
    "\n",
    "| exercise | deliverable | method of delivery | points |\n",
    "|----------|-------------|--------------------|--------|\n",
    "| 1 | none | none | 5 |\n",
    "| 2 | `ip` address and `openssh` public key string | include in body of submission email | 2 |\n",
    "| 3 | `ssh` `config` file entry | include in body of submission email | 3 |\n",
    "| 4 | none | none | 10 |\n",
    "| 5 | a decoded single number | include in body of submission email | 10 |\n",
    "\n",
    "total points: 30"
   ]
  },
  {
   "cell_type": "markdown",
   "metadata": {},
   "source": [
    "<div style=\"border: 1px solid lightgrey;\">"
   ]
  },
  {
   "cell_type": "markdown",
   "metadata": {},
   "source": [
    "# exercise 1: generating a public and private key pair\n",
    "\n",
    "we will create a public and private `ssh` key pair using the [RSA encryption algorithm](https://simple.wikipedia.org/wiki/RSA_%28algorithm%29).\n",
    "\n",
    "\n",
    "## 1.0: short circuiting this question\n",
    "\n",
    "this exercise is a walkthrough to create a default public / private key pair.\n",
    "\n",
    "if you already have a key pair (e.g. `id_rsa` and `id_rsa.pub`) and know how to use them, the point of this exercise will be to copy the public key contents and submit them to me below. feel free to skip the last step of this exercise.\n",
    "\n",
    "if not, read on!\n",
    "\n",
    "\n",
    "## 1.1: putting `ssh` files in the right place\n",
    "\n",
    "to start, let's make sure we are putting all of our files in the standard place.\n",
    "\n",
    "+ `mac`: this is the directory `~/.ssh` -- a hidden directory `.ssh` in our home directory\n",
    "    + make sure this is created by executin `mkdir -p ~/.ssh` in you mac laptop terminal\n",
    "+ `windows`: this is the directory `%USERPROFILE%/.ssh` -- a hidden directory `.ssh` in our home directory\n",
    "    + figure out what this path is by opening the `cmd` prompt and executing `echo %USERPROFILE%/.ssh`\n",
    "    + you can create this in file explorer, or let it be created for you below\n",
    "\n",
    "\n",
    "## 1.2: check if these files already exist\n",
    "\n",
    "let's not overwrite these files if they already exist.\n",
    "\n",
    "+ `mac`: check for this file by running `ls ~/.ssh/id_rsa`. if you do not get an error (`No such file or directory`), the file exists and you can skip to the last step\n",
    "+ `windows`: in `cmd` execute `IF EXIST %USERPROFILE%/.ssh/id_rsa ECHO key exists.`\n",
    "\n",
    "\n",
    "## 1.3 make the keys\n",
    "\n",
    "this step will depend on whether or not you have the `ssh` command available. it is likely all of you do, so you will do the first sub-step here. if you do not, the second sub-step is for you.\n",
    "\n",
    "\n",
    "### 1.3.1: if you have the `ssh` command available\n",
    "\n",
    "use the `ssh-keygen` program to create your key:\n",
    "\n",
    "```bash\n",
    "ssh-keygen -t rsa\n",
    "# then press enter for all three prompts\n",
    "```\n",
    "\n",
    "this will create a file `~/.ssh/id_rsa`.\n",
    "\n",
    "to see the value, open the file with your favorite file editor, or in a terminal run\n",
    "\n",
    "```bash\n",
    "cat ~/.ssh/id_rsa\n",
    "```\n",
    "\n",
    "for background details, go through the section title \"Generating a new SSH key\" in [this walkthrough provided by the folks at `github`](https://help.github.com/enterprise/2.14/user/articles/generating-a-new-ssh-key-and-adding-it-to-the-ssh-agent/)\n",
    "\n",
    "\n",
    "### 1.3.2: if you do not have the `ssh` command available\n",
    "\n",
    "you will use the [`puttygen`](https://www.chiark.greenend.org.uk/~sgtatham/putty/latest.html) program. install it and create a key.\n",
    "\n",
    "after waving your mouse around, the public key will be viewable at the top of the `puttygen` window\n",
    "\n",
    "<br><div align=\"center\"><img src=\"http://drive.google.com/uc?export=view&id=0ByQ4VmO-MwEEaERhMUpIekNObFk\"></img></div>\n",
    "\n",
    "\n",
    "## 1.4: get the public key value\n",
    "\n",
    "a properly formatted `openssh` public key suitable for an `authorized_keys` file will look like\n",
    "\n",
    "```\n",
    "ssh-rsa AAAAB3NzaC1yc2EAAAADAQABAAABAQCcPZIwNUzBD4jufWUPBLVzQRkPLRoJqMYgHUTH+7fdCvYGMMx+WiamyncGzcsMZpcSWDbGlCEuo//NTSc2CSS0jdgsDhBHHZ14kHO5A5zThrmNw0v/D9AH/BaE1B8ls++iDE2SmLMEQIAVD4IfmdWfkCwZaQto6hIb4XUXED/Jz8dWzG4opOpfgNMDiYK31y5qhgZQidaSdUNNOxBoCPaemHURp5SwBm+sbTnTQH4oza/FPkd24G3Ruh9TGIoBB5FGu+Qcz1tuGbk+8Iy6oWmWFa+Z+XtTpUbs5XHjptcbI5xXVsPdg360vK+drCWkJEvdIBEzQXwHDif985oX37rT zlamberty@megaman\n",
    "```\n",
    "\n",
    "copy your public key value (see the instructions in the prior step). you will give it to us in the next exercise.\n",
    "\n",
    "remember: ***NEVER GIVE ANYONE THAT PRIVATE KEY!!!***\n",
    "\n",
    "##### there is nothing to submit here"
   ]
  },
  {
   "cell_type": "markdown",
   "metadata": {},
   "source": [
    "<div style=\"border: 1px solid lightgrey;\">"
   ]
  },
  {
   "cell_type": "markdown",
   "metadata": {},
   "source": [
    "# exercise 2: set up your login to *my* `ec2` instance\n",
    "\n",
    "let's play a game of \"working with the customer's sysad / IT people to set up our connection to their linux machine at the start of our project or maybe week 10 yolo\".\n",
    "\n",
    "I want to give you access to my `ec2` instance. being a good system administrator, I know exactly what I need from you:\n",
    "\n",
    "1. the `ip` address from which you want to connect (http://lmgtfy.com/?q=what+is+my+ip)\n",
    "1. the `openssh`-formatted **public** (not private) key from exercise 1 (see the formatting just above)\n",
    "\n",
    "you will send this to us in an email (see submission instructions below), and we will respond to you with an email notifying you that you should have access to our `ec2` instance. we will provide you with\n",
    "\n",
    "+ the server url\n",
    "+ your user name\n",
    "\n",
    "this information will be enough -- right?\n",
    "\n",
    "##### include your  `ip` address and your public key value in the body of your email"
   ]
  },
  {
   "cell_type": "markdown",
   "metadata": {},
   "source": [
    "<div style=\"border: 1px solid lightgrey;\">"
   ]
  },
  {
   "cell_type": "markdown",
   "metadata": {},
   "source": [
    "# exercise 3: create an `ssh` `config` file entry\n",
    "\n",
    "we will write the commands below with the `mac`- and `linux`-specific `~` shorthand for your home directory. if you are doing this assignment on a `windows` computer, replace that value `~` with the variable `%USERPROFILE%` (you can see what this is by executing `echo %USERPROFILE%` in the `cmd` prompt)\n",
    "\n",
    "\n",
    "## 3.1: refresher on `config` entries\n",
    "in class we discussed how the `ssh` `config` file can allow you to assign short, memorable nicknames to the set of configuration parameters you would pass to the `ssh` command for each remote server to which you wish to connect.\n",
    "\n",
    "for example, instead of writing\n",
    "\n",
    "``` sh\n",
    "ssh -i ~/.ssh/my_special_key_file ubuntu@ec2-xx-xxx-xx-xxx.compute-1.amazonaws.com\n",
    "```\n",
    "\n",
    "you could *instead* add the following to your `~/.ssh/config` file:\n",
    "\n",
    "```\n",
    "Host my_ec2\n",
    "    HostName ec2-xx-xxx-xx-xxx.compute-1.amazonaws.com\n",
    "    User ubuntu\n",
    "    IdentityFile ~/.ssh/my_special_key_file\n",
    "```\n",
    "\n",
    "after adding this record, you could replace the long `ssh` command above with simply\n",
    "\n",
    "```\n",
    "ssh my_ec2\n",
    "```\n",
    "\n",
    "one reason to do this is that you may have multiple different remote computers to connect to. you can have multiple entries in your `~/.ssh/config` file:\n",
    "\n",
    "```\n",
    "Host gu511\n",
    "    HostName ec2-xx-xxx-xx-xxx.compute-1.amazonaws.com\n",
    "    User ubuntu\n",
    "    IdentityFile ~/.ssh/my_gu511_key.pem\n",
    "\n",
    "Host deeplearning\n",
    "    HostName ec2-xx-xxx-xx-xxx.compute-1.amazonaws.com\n",
    "    User zach\n",
    "    IdentityFile ~/.ssh/my_deeplearning_key.pem\n",
    "\n",
    "Host sparkmaster\n",
    "    HostName ec2-xx-xxx-xx-xxx.compute-1.amazonaws.com\n",
    "    User spark\n",
    "    IdentityFile ~/.ssh/my_spark_master_key.pem\n",
    "```\n",
    "\n",
    "\n",
    "## 3.2: the actual thing we're asking you to do\n",
    "\n",
    "we want you to create a single `config` entry shortcut for your `ssh` login to your personal `ec2` instance. in class, we connected to our `ec2` instances using the `ssh` command directly, a la\n",
    "\n",
    "```bash\n",
    "ssh -i IdentityFile User@HostName\n",
    "```\n",
    "\n",
    "collect that information and format it into a single `config` entry. for the `Host` nickname you can use whatever you want (e.g. `gu511`).\n",
    "\n",
    "\n",
    "## 3.3: [OPTIONAL] add that block to your *real* `~/.ssh/config` file\n",
    "\n",
    "if you would like, you may add that block of text to the end of your `~/.ssh/config` file. create that file if it doesn't exist, and then open it in a text editor of your choice and add the `Host` block to the end of that file.\n",
    "\n",
    "\n",
    "##### include the `config` entry in plain text in the body of your submission email"
   ]
  },
  {
   "cell_type": "markdown",
   "metadata": {},
   "source": [
    "<div style=\"border: 1px solid lightgrey;\">"
   ]
  },
  {
   "cell_type": "markdown",
   "metadata": {},
   "source": [
    "# exercise 4: walk through the `ssh` demo notebook with a partner\n",
    "\n",
    "Partner up with some one else in class and walk through this [`ssh_keys` notebook](https://colab.research.google.com/github/rzl-ds/gu511_hw/blob/master/ssh_keys.ipynb).\n",
    "\n",
    "Note: there are a few ways to run the `ssh_keys.ipynb` notebook.\n",
    "\n",
    "1. easiest: the above link will take you to a google \"colab\" notebook browser, so just run it there\n",
    "    1. sign in to google with your `georgetown.edu` account\n",
    "    1. click the \"OPEN IN PLAYGROUND\" button in the top right. this will give you a working `python` session\n",
    "    1. run cells by selecting them and pressing \"SHIFT + ENTER\", or clicking the play buttons\n",
    "1. `python` and `jupyter` pro: download the file (\"File > Download .ipynb\") and run it in a local `jupyter notebook` server session\n",
    "\n",
    "##### there is nothing to submit"
   ]
  },
  {
   "cell_type": "markdown",
   "metadata": {},
   "source": [
    "<div style=\"border: 1px solid lightgrey;\">"
   ]
  },
  {
   "cell_type": "markdown",
   "metadata": {},
   "source": [
    "# exercise 5: # decoding *our* message\n",
    "\n",
    "using the [`ssh_keys` notebook](https://colab.research.google.com/github/rzl-ds/gu511_hw/blob/master/ssh_keys.ipynb) from exercise 4, decode *our* message.\n",
    "\n",
    "we will be using the `RSA` encryption algorithm, so follow along with the \"making it a bit harder: RSA\" section in that notebook. We (Kodie, Dan, and I) are partner 2; you are partner 1."
   ]
  },
  {
   "cell_type": "markdown",
   "metadata": {},
   "source": [
    "## 5.1: setting up your \"public / private\" key\n",
    "\n",
    "make sure `p` and `q` are left as is:\n",
    "\n",
    "```python\n",
    "p = 1987\n",
    "q = 13\n",
    "```\n",
    "\n",
    "make sure that the value of `e` is also left as is:\n",
    "\n",
    "```python\n",
    "e = 451\n",
    "```\n",
    "\n",
    "After doing this, you should have\n",
    "\n",
    "+ `(p, q, e) = (1987, 13, 451)`\n",
    "+ your public key values are `(n, e) = (25831, 451)`\n",
    "+ your private key values will be `(n, d) = (25831, 1735)`"
   ]
  },
  {
   "cell_type": "markdown",
   "metadata": {},
   "source": [
    "## 5.2: receiving an encrypted message\n",
    "\n",
    "We (Carlos and I) have encoded a message using using your public key information, and the encrypted version of our message is:\n",
    "\n",
    "```\n",
    "15417\n",
    "```\n",
    "\n",
    "what was our original message (a number)?\n",
    "\n",
    "\n",
    "##### include the decoded version of our encoded message in the body of your email"
   ]
  }
 ],
 "metadata": {
  "kernelspec": {
   "display_name": "Python 3",
   "language": "python",
   "name": "python3"
  },
  "language_info": {
   "codemirror_mode": {
    "name": "ipython",
    "version": 3
   },
   "file_extension": ".py",
   "mimetype": "text/x-python",
   "name": "python",
   "nbconvert_exporter": "python",
   "pygments_lexer": "ipython3",
   "version": "3.7.3"
  },
  "toc": {
   "base_numbering": 1,
   "nav_menu": {},
   "number_sections": true,
   "sideBar": true,
   "skip_h1_title": false,
   "title_cell": "Table of Contents",
   "title_sidebar": "Contents",
   "toc_cell": false,
   "toc_position": {},
   "toc_section_display": true,
   "toc_window_display": false
  }
 },
 "nbformat": 4,
 "nbformat_minor": 2
}
