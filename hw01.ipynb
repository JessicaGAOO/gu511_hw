{
 "cells": [
  {
   "cell_type": "markdown",
   "metadata": {},
   "source": [
    "# Exercises due by EOD 2019.09.11"
   ]
  },
  {
   "cell_type": "markdown",
   "metadata": {},
   "source": [
    "## goal"
   ]
  },
  {
   "cell_type": "markdown",
   "metadata": {},
   "source": [
    "in this homework assignment we will\n",
    "\n",
    "+ collect information about our computers (both real, physical laptops and brand new virtual computers)\n",
    "+ share some important account and user name information\n",
    "+ take some surveys"
   ]
  },
  {
   "cell_type": "markdown",
   "metadata": {},
   "source": [
    "## method of delivery"
   ]
  },
  {
   "cell_type": "markdown",
   "metadata": {},
   "source": [
    "*as mentioned in our first lecture, the method of delivery may change from assignment to assignment. we will include this section in every assignment to provide an overview of how we expect homework results to be submitted, and to provide background notes or explanations for \"new\" delivery concepts or methods.*"
   ]
  },
  {
   "cell_type": "markdown",
   "metadata": {},
   "source": [
    "this week you will be submitting the results of your homework via **EMAIL**.\n",
    "\n",
    "+ subject: **\"hw01 answers\"**\n",
    "+ to: rzl5@georgetown.edu, kpm89@georgetown.edu, dcf63@georgetown.edu\n",
    "\n",
    "summary:\n",
    "\n",
    "| exercise | deliverable | method of delivery | points |\n",
    "|----------|-------------|--------------------|--------|\n",
    "| 1 | `csv` file of hardware and software values | named `comparison.csv` and attached to your submission email | 5 |\n",
    "| 2 | three image files | attach to the submission email | 3 |\n",
    "| 3 | your `aws` account id and alias, and `iam` user `ARN` | include in the email body | 3 |\n",
    "| 4 | your instance type, id, public `ipv4`, public `dns`, and security group info | include in the email body | 4 |\n",
    "| 5 | your `github` username | include in the email body | 3 |\n",
    "| 6 | a completed google survey | submit the survey | 1 |\n",
    "| 7 | a completed google survey | submit the survey | 1 |\n",
    "| 8 | **OPTIONAL** excercise - nothing to deliver | none | 0 |\n",
    "\n",
    "total points: 20"
   ]
  },
  {
   "cell_type": "markdown",
   "metadata": {},
   "source": [
    "<div style=\"border: 1px solid lightgrey;\">"
   ]
  },
  {
   "cell_type": "markdown",
   "metadata": {},
   "source": [
    "# exercise 1: computer details\n",
    "\n",
    "let's quantify the resources available to us in both our personal laptops and the `aws` `ec2` instance we spun up in the first lecture. don't get too hung up on the exact values here, our goal is to learn what the items in the first column mean, and to get a sense of which machine is more powerful.\n",
    "\n",
    "fill out the elements in the following table in excel or [google sheets](https://docs.google.com/spreadsheets/), save it as a `csv` file named `comparison.csv`, and attach that file to your homework submission email.\n",
    "\n",
    "| item                          | my computer | my aws instance |\n",
    "|-------------------------------|-------------|-----------------|\n",
    "| operating system              | ?           | ?               |\n",
    "| operating system version      | ?           | ?               |\n",
    "| RAM / memory (GiB)            | ?           | ?               |\n",
    "| number of processor cores     | ?           | ?               |\n",
    "| hard disk space (total)       | ?           | ?               |\n",
    "| python version (if installed) | ?           | ?               |\n",
    "| R version (if installed)      | ?           | ?               |\n",
    "\n",
    "\n",
    "some notes:\n",
    "\n",
    "+ where to look for this information\n",
    "    + generally, for the aws instance, you may find [this page](https://aws.amazon.com/ec2/instance-types/) useful.\n",
    "    + for mac users, open \"about this mac\" and focus on the \"overview\" and \"storage\" tabs\n",
    "    + for windows users, open the Settings app and click to System > About. focus on device specifications\n",
    "    + as always, google is a good place to start\n",
    "+ what each of these is\n",
    "    + operating system: one of `windows`, `mac`, or various flavors of `linux` (e.g. `ubuntu`, `RHEL`, `amazon linux`)\n",
    "    + operating system version: the number or code associated with your OS (e.g. `windows` **10**, `mac` **mojave** / **10.14.6**, `ubuntu` **18.04 LTS**)\n",
    "    + RAM / memory (GiB): a measurement of how much data your computer can hold in fast-access storage\n",
    "    + number of processor cores: the central processing unit (CPU) on your computer handles the scheduling and execution of all of the computational tasks you request. a \"core\" is an independent worker on your CPU -- more cores means more workers, and more workers mean more things are accomplished per second.\n",
    "        + on `aws` these are called `vCPU`s\n",
    "        + for your laptop, identify the make and model of your `cpu` (e.g. \"Intel Core i5\" or \"AMD ... 16-Core Processor\"). some will have the number of cores in the name; for the rest, try googling for that information.\n",
    "    + hard disk space (total): you picked this number when you built your `aws` instance or when you bought your laptop. this is a measurement of the volume of data your computer can store internally for future access.\n",
    "    + `python` and `R` versions\n",
    "        + <span style=\"color:red;font-weight:bold\">INCLUDE IF YOU DIDN'T COVER SSH CONNECTIONS YET</span> because we didn't cover `ssh` connections, you don't have to fill in the `python` or `R` version columns for your `aws` instance\n",
    "        + on your laptop, the command line commands to get the `python` and `R` versions are simple: `python3 --version` and `R --version`\n",
    "\n",
    "##### submit this as a `csv` file named `comparison.csv` attached to your homework submission email"
   ]
  },
  {
   "cell_type": "markdown",
   "metadata": {},
   "source": [
    "<div style=\"border: 1px solid lightgrey;\">"
   ]
  },
  {
   "cell_type": "markdown",
   "metadata": {},
   "source": [
    "# exercise 2: signing in to `aws`\n",
    "\n",
    "let's get practice singing in and out of our new `aws` account\n",
    "\n",
    "*note: for help with the questions below, please refer to the section of the logging on lecture titled \"reviewing login process\"*"
   ]
  },
  {
   "cell_type": "markdown",
   "metadata": {},
   "source": [
    "## exercise 2.1: sign in as `root`\n",
    "\n",
    "we'll start by breaking our \"never sign in as `root`\" rule. follow the steps from the lecture to sign in to your `root` account.\n",
    "\n",
    "demonstrate that you have successfully signed in by sending us a screenshot of your user name as it appears in your `root` sign-in. for example:\n",
    "\n",
    "<div center=\"align\"><img align=\"middle\" src=\"https://drive.google.com/uc?export=view&id=0ByQ4VmO-MwEEWGZVQ1dGR2duUWc\"></div>"
   ]
  },
  {
   "cell_type": "markdown",
   "metadata": {},
   "source": [
    "## exercise 2.2: verify you have created an account alias\n",
    "\n",
    "in lecture we walked through how to create an alias (a shorthand replacement for your account id number). send a screenshot of your login address:\n",
    "\n",
    "<div center=\"align\"><img align=\"middle\" src=\"https://drive.google.com/uc?export=view&id=0ByQ4VmO-MwEEbmt1Ty14anZkbGM\"></div>"
   ]
  },
  {
   "cell_type": "markdown",
   "metadata": {},
   "source": [
    "## exercise 2.3: sign in as `iam` user\n",
    "\n",
    "use that alias login address to log in as your `iam` user. demonstrate that you have successfully signed in by sending us a screenshot of your user name as it appears in your `iam` user sign-in:\n",
    "\n",
    "<div center=\"align\"><img align=\"middle\" src=\"https://drive.google.com/uc?export=view&id=0ByQ4VmO-MwEES3hBLW1FMS12VzQ\"></div>"
   ]
  },
  {
   "cell_type": "markdown",
   "metadata": {},
   "source": [
    "## exercise 2.4: submit the above\n",
    "\n",
    "##### submit the above pictures as three separate image files (`png`, `jpeg`, whatever) attached to the submission file"
   ]
  },
  {
   "cell_type": "markdown",
   "metadata": {},
   "source": [
    "<div style=\"border: 1px solid lightgrey;\">"
   ]
  },
  {
   "cell_type": "markdown",
   "metadata": {},
   "source": [
    "# exercise 3: `aws` account info\n",
    "\n",
    "answer the following three questions:\n",
    "\n",
    "1. what is your `aws` account id?\n",
    "2. what is your `aws` account alias?\n",
    "3. what is your `iam` user's ARN (amazon resource name)?"
   ]
  },
  {
   "cell_type": "markdown",
   "metadata": {},
   "source": [
    "## exercise 3.1: defining the above\n",
    "\n",
    "1. `aws` account id\n",
    "    1. this is a unique 12 digit number for every `aws` account\n",
    "    2. it can be found on your \"My Account\" page\n",
    "2. `aws` account alias\n",
    "    1. you verify you have created this in exercise 2.2 above\n",
    "    2. it can be found on your `iam` dashboard, on the first line\n",
    "3. your `iam` user's ARN (amazon resource name)\n",
    "    1. an ARN is a unique identifier of resources, users, and services\n",
    "    2. ARNs are used throughout `aws` to manage permissions and communication\n",
    "    3. your user's ARN is found on a page within the `iam` service\n",
    "        1. go to the `iam` service\n",
    "        2. click on the \"Users\" left dashboard\n",
    "        3. click on your `iam` user name: <img align=\"middle\" src=\"https://drive.google.com/uc?export=view&id=0ByQ4VmO-MwEEWHRzdlVNTWwyalU\"></img><br>\n",
    "        4. the ARN is in the first line of the summary: <img align=\"middle\" src=\"https://drive.google.com/uc?export=view&id=0ByQ4VmO-MwEEVkJzR1hiTm1zSjg\"></img><br>"
   ]
  },
  {
   "cell_type": "markdown",
   "metadata": {},
   "source": [
    "## exercise 3.2: submitting\n",
    "\n",
    "##### submit these three items (your `aws` account id, your account alias, and your `iam` user's `ARN`) as a bulleted list in the body of your submission email"
   ]
  },
  {
   "cell_type": "markdown",
   "metadata": {},
   "source": [
    "<div style=\"border: 1px solid lightgrey;\">"
   ]
  },
  {
   "cell_type": "markdown",
   "metadata": {},
   "source": [
    "# exercise 4: `ec2` instance details\n",
    "\n",
    "all of the following items can be found on the `ec2 > Instances` dashboard\n",
    "\n",
    "<br><div align=\"center\"><img src=\"https://drive.google.com/uc?export=view&id=0ByQ4VmO-MwEEa2cwRi1DeGV6V28\"></div><br>\n",
    "\n",
    "1. what is your instance's instance type?\n",
    "2. what is your instance's instance id?\n",
    "    1. this is a unique identifier for every `ec2` server\n",
    "3. what is your instance's public ipv4 ip address\n",
    "4. what is your instance's public DNS\n",
    "5. what are your instance's security group inbound rules?\n",
    "    1. send all the security group rules as (port, protocol, source CIDR (that ip-looking thing)) triads\n",
    "\n",
    "##### submit these five items as a bulleted list in the body of your submission email"
   ]
  },
  {
   "cell_type": "markdown",
   "metadata": {},
   "source": [
    "<div style=\"border: 1px solid lightgrey;\">"
   ]
  },
  {
   "cell_type": "markdown",
   "metadata": {},
   "source": [
    "# exercise 5: `github` account\n",
    "\n",
    "`git` is the most widely used version control system in the linux world, and `github` is the largest and most popular `git` repository management service. everyone should have a `github` account, and we ask every person in this course to have one.\n",
    "\n",
    "there will be at least one `git` related question on every homework assignment.\n",
    "\n",
    "for now, we request that you [create an account](https://github.com/join) if you don't already have one.\n",
    "\n",
    "the deliverable for this assignment is *your github user name*. for example, mine is `RZachLamberty` and my profile is [here](https://github.com/RZachLamberty)\n",
    "\n",
    "##### email us your `github` usser name"
   ]
  },
  {
   "cell_type": "markdown",
   "metadata": {},
   "source": [
    "<div style=\"border: 1px solid lightgrey;\">"
   ]
  },
  {
   "cell_type": "markdown",
   "metadata": {},
   "source": [
    "# exercise 6: course topic survey\n",
    "\n",
    "go fill out the following survey on your relative interest and experiences in the topics we may cover in this course:\n",
    "\n",
    "https://forms.gle/YRqEKQrdCqKkVCkz9"
   ]
  },
  {
   "cell_type": "markdown",
   "metadata": {},
   "source": [
    "<div style=\"border: 1px solid lightgrey;\">"
   ]
  },
  {
   "cell_type": "markdown",
   "metadata": {},
   "source": [
    "# exercise 7: office hour time survey\n",
    "\n",
    "go fill out the following survey on your preferred time slot for our second weekly office hour:\n",
    "\n",
    "https://forms.gle/zdHcQ2GubHX9N8uK7"
   ]
  },
  {
   "cell_type": "markdown",
   "metadata": {},
   "source": [
    "<div style=\"border: 1px solid lightgrey;\">"
   ]
  },
  {
   "cell_type": "markdown",
   "metadata": {},
   "source": [
    "# [OPTIONAL] further reading: read this excellent `dns` explainer\n",
    "\n",
    "in class we discussed how your `ec2` instance has a public `ip` address and a \"`dns`\" -- what is a `dns`?\n",
    "\n",
    "read [this cute little explainer on how `dns` works](https://howdns.works/ep1/). I'd estimate it takes about 20 minutes to read, but gives an excellent overview of some of the magic of internet communication"
   ]
  },
  {
   "cell_type": "markdown",
   "metadata": {},
   "source": [
    "<div style=\"border: 1px solid lightgrey;\">"
   ]
  }
 ],
 "metadata": {
  "kernelspec": {
   "display_name": "Python 3",
   "language": "python",
   "name": "python3"
  },
  "language_info": {
   "codemirror_mode": {
    "name": "ipython",
    "version": 3
   },
   "file_extension": ".py",
   "mimetype": "text/x-python",
   "name": "python",
   "nbconvert_exporter": "python",
   "pygments_lexer": "ipython3",
   "version": "3.7.3"
  },
  "toc": {
   "base_numbering": 1,
   "nav_menu": {},
   "number_sections": true,
   "sideBar": true,
   "skip_h1_title": false,
   "title_cell": "Table of Contents",
   "title_sidebar": "Contents",
   "toc_cell": false,
   "toc_position": {},
   "toc_section_display": true,
   "toc_window_display": false
  }
 },
 "nbformat": 4,
 "nbformat_minor": 2
}
